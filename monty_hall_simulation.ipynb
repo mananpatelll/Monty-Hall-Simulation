{
 "cells": [
  {
   "cell_type": "code",
   "execution_count": 1,
   "metadata": {},
   "outputs": [],
   "source": [
    "import random as random\n",
    "import secrets\n",
    "\n",
    "\n",
    "def put_price():\n",
    "    doors = [1, 2, 3]\n",
    "    price = secrets.choice(doors)\n",
    "    return price\n"
   ]
  },
  {
   "cell_type": "code",
   "execution_count": 29,
   "metadata": {},
   "outputs": [],
   "source": [
    "def run_simulation(number_of_trails,change_door):\n",
    "    num_of_wins = 0 \n",
    "    \n",
    "    for i in range(number_of_trails):\n",
    "        doors = [1,2,3]\n",
    "        door_with_price = put_price()\n",
    "        selected_door = secrets.choice(doors)\n",
    "        \n",
    "        # if monty chooce not to switch every time \n",
    "        if change_door == 0:\n",
    "            if selected_door == door_with_price:\n",
    "                num_of_wins += 1\n",
    "        elif change_door == 1:\n",
    "            ''' since monty will switch door everytime we can directly check if his initial selection had price in it.\n",
    "            if his initial selection has price in it  he will loose becase we other doors to select only contains goat'''\n",
    "            if selected_door != door_with_price:\n",
    "                num_of_wins += 1\n",
    "                \n",
    "            \n",
    "    win_per = (num_of_wins/number_of_trails)* 100\n",
    "    return  win_per"
   ]
  },
  {
   "cell_type": "markdown",
   "metadata": {},
   "source": [
    "### Explanation for `elif change_door == 1` Logic\n",
    "\n",
    "#### Key Idea\n",
    "If the player chooses to switch doors every time (`change_door == 1`), we can determine the outcome directly based on whether their **initial choice** (`selected_door`) was correct.\n",
    "\n",
    "#### Logic Breakdown\n",
    "1. **Initial Choice:**\n",
    "   - The player selects one of the three doors (`selected_door`).\n",
    "   - The door with the prize is determined (`door_with_price`).\n",
    "\n",
    "2. **Monty’s Role:**\n",
    "   - Monty knows where the prize is.\n",
    "   - He opens one of the other two doors, ensuring it contains a goat.\n",
    "\n",
    "3. **Switching Outcome:**\n",
    "   - If the player's initial choice is **correct** (1/3 probability), switching will **always lose**, because the other unopened door contains a goat.\n",
    "   - If the player's initial choice is **incorrect** (2/3 probability), switching will **always win**, because the other unopened door contains the prize.\n",
    "\n",
    "Thus, we only need to check:\n",
    "```python\n",
    "if selected_door != door_with_price:\n",
    "    num_of_wins += 1\n",
    "```\n",
    "This condition evaluates whether the player’s initial choice was incorrect, in which case switching guarantees a win.\n",
    "\n",
    "---"
   ]
  },
  {
   "cell_type": "code",
   "execution_count": 36,
   "metadata": {},
   "outputs": [],
   "source": [
    "trial_counts = [1,5,10,100]\n",
    "num_experiments = 1000\n",
    "\n",
    "# Dictionary to store results\n",
    "results_summary = {\n",
    "    \"No Switch\": {count: [] for count in trial_counts},\n",
    "    \"Switch\": {count: [] for count in trial_counts}\n",
    "}\n"
   ]
  },
  {
   "cell_type": "code",
   "execution_count": 37,
   "metadata": {},
   "outputs": [],
   "source": [
    "for change_door in [0, 1]:\n",
    "    strategy = \"Switch\" if change_door == 1 else \"No Switch\"\n",
    "    \n",
    "    # Run each experiment 10,000 times for each trial count\n",
    "    for count in trial_counts:\n",
    "        for _ in range(num_experiments):\n",
    "            win_percentage = run_simulation(count, change_door)\n",
    "            results_summary[strategy][count].append(win_percentage)"
   ]
  },
  {
   "cell_type": "code",
   "execution_count": 38,
   "metadata": {},
   "outputs": [
    {
     "name": "stdout",
     "output_type": "stream",
     "text": [
      "Results with No Switch:\n",
      "  Trials: 1 | Average Win Percentage: 29.80%\n",
      "  Trials: 5 | Average Win Percentage: 33.60%\n",
      "  Trials: 10 | Average Win Percentage: 33.38%\n",
      "  Trials: 100 | Average Win Percentage: 33.43%\n",
      "============================================================\n",
      "Results with Switch:\n",
      "  Trials: 1 | Average Win Percentage: 66.70%\n",
      "  Trials: 5 | Average Win Percentage: 67.60%\n",
      "  Trials: 10 | Average Win Percentage: 66.74%\n",
      "  Trials: 100 | Average Win Percentage: 66.80%\n",
      "============================================================\n"
     ]
    }
   ],
   "source": [
    "for strategy, counts in results_summary.items():\n",
    "    print(f\"Results with {strategy}:\")\n",
    "    for count, percentages in counts.items():\n",
    "        avg_win_percentage = sum(percentages) / num_experiments\n",
    "        print(f\"  Trials: {count} | Average Win Percentage: {avg_win_percentage:.2f}%\")\n",
    "    print(\"=\" * 60)  # Divider for clarity"
   ]
  },
  {
   "cell_type": "code",
   "execution_count": null,
   "metadata": {},
   "outputs": [],
   "source": []
  }
 ],
 "metadata": {
  "kernelspec": {
   "display_name": "base",
   "language": "python",
   "name": "python3"
  },
  "language_info": {
   "codemirror_mode": {
    "name": "ipython",
    "version": 3
   },
   "file_extension": ".py",
   "mimetype": "text/x-python",
   "name": "python",
   "nbconvert_exporter": "python",
   "pygments_lexer": "ipython3",
   "version": "3.11.5"
  }
 },
 "nbformat": 4,
 "nbformat_minor": 2
}
